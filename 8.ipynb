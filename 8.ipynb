{
 "cells": [
  {
   "cell_type": "code",
   "execution_count": 12,
   "id": "eligible-jacksonville",
   "metadata": {},
   "outputs": [
    {
     "name": "stdout",
     "output_type": "stream",
     "text": [
      "1533\n"
     ]
    }
   ],
   "source": [
    "# Part 1\n",
    "\n",
    "with open(\"8.txt\", \"r\") as f:\n",
    "    s = f.read().split(\"\\n\")\n",
    "s.pop()\n",
    "\n",
    "visible_trees = 2*(len(s)+len(s[0]))-4\n",
    "# print(visible_trees)\n",
    "for i in range(1, len(s)-1):\n",
    "    for j in range(1, len(s[0])-1):\n",
    "        a,b,c,d = True, True, True, True\n",
    "        for k in range(j+1, len(s[0])):\n",
    "            if s[i][j] <= s[i][k]:\n",
    "                a=False\n",
    "                break\n",
    "        for k in range(j):\n",
    "            if s[i][j] <= s[i][k]:\n",
    "                b=False\n",
    "                break\n",
    "        for k in range(i+1,len(s)):\n",
    "            if s[i][j] <= s[k][j]:\n",
    "                c = False\n",
    "                break\n",
    "        for k in range(i):\n",
    "            if s[i][j] <= s[k][j]:\n",
    "                d = False\n",
    "                break\n",
    "        visible_trees += (a or b or c or d)\n",
    "#         print(visible_trees)\n",
    "print(visible_trees)"
   ]
  },
  {
   "cell_type": "code",
   "execution_count": 24,
   "id": "yellow-petite",
   "metadata": {},
   "outputs": [
    {
     "name": "stdout",
     "output_type": "stream",
     "text": [
      "345744\n"
     ]
    }
   ],
   "source": [
    "# Part 2\n",
    "\n",
    "with open(\"8.txt\", \"r\") as f:\n",
    "    s = f.read().split(\"\\n\")\n",
    "s.pop()\n",
    "\n",
    "res = 0\n",
    "# print(visible_trees)\n",
    "for i in range(1, len(s)-1):\n",
    "    for j in range(1, len(s[0])-1):\n",
    "        a,b,c,d = 0, 0, 0, 0\n",
    "        for k in range(j+1, len(s[0])):\n",
    "            a += 1\n",
    "            if s[i][j] <= s[i][k]:\n",
    "                break\n",
    "        for k in reversed(range(j)):\n",
    "            b += 1\n",
    "            if s[i][j] <= s[i][k]:\n",
    "                break\n",
    "        for k in range(i+1,len(s)):\n",
    "            c += 1\n",
    "            if s[i][j] <= s[k][j]:\n",
    "                break\n",
    "        for k in reversed(range(i)):\n",
    "            d += 1\n",
    "            if s[i][j] <= s[k][j]:\n",
    "                break\n",
    "        res = max(res, a*b*c*d)\n",
    "#         print(res, a,b,c,d)\n",
    "#         print(visible_trees)\n",
    "print(res)"
   ]
  }
 ],
 "metadata": {
  "kernelspec": {
   "display_name": "Python 3",
   "language": "python",
   "name": "python3"
  },
  "language_info": {
   "codemirror_mode": {
    "name": "ipython",
    "version": 3
   },
   "file_extension": ".py",
   "mimetype": "text/x-python",
   "name": "python",
   "nbconvert_exporter": "python",
   "pygments_lexer": "ipython3",
   "version": "3.7.9"
  }
 },
 "nbformat": 4,
 "nbformat_minor": 5
}
