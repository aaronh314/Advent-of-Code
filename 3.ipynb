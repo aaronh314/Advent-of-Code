{
 "cells": [
  {
   "cell_type": "code",
   "execution_count": 16,
   "id": "everyday-convenience",
   "metadata": {},
   "outputs": [
    {
     "data": {
      "text/plain": [
       "['vJrwpWtwJgWrhcsFMMfFFhFp',\n",
       " 'jqHRNqRjqzjGDLGLrsFMfFZSrLrFZsSL',\n",
       " 'PmmdzqPrVvPwwTWBwg',\n",
       " 'wMqvLMZHhHMvwLHjbvcjnnSBnvTQFn',\n",
       " 'ttgJtRGJQctTZtZT',\n",
       " 'CrZsJsPPZsGzwwsLwLmpwMDw']"
      ]
     },
     "execution_count": 16,
     "metadata": {},
     "output_type": "execute_result"
    }
   ],
   "source": [
    "s"
   ]
  },
  {
   "cell_type": "code",
   "execution_count": 17,
   "id": "disabled-fiction",
   "metadata": {},
   "outputs": [
    {
     "name": "stdout",
     "output_type": "stream",
     "text": [
      "Counter({'s': 3, 'Z': 2, 'P': 2, 'C': 1, 'r': 1, 'J': 1, 'G': 1, 'z': 1})\n"
     ]
    }
   ],
   "source": [
    "print(s1)"
   ]
  },
  {
   "cell_type": "code",
   "execution_count": 27,
   "id": "caroline-durham",
   "metadata": {},
   "outputs": [
    {
     "name": "stdout",
     "output_type": "stream",
     "text": [
      "7845\n"
     ]
    }
   ],
   "source": [
    "from collections import Counter\n",
    "\n",
    "with open(\"3.txt\", \"r\") as f:\n",
    "    s = f.read().split(\"\\n\")\n",
    "s.pop()\n",
    "res = 0\n",
    "for line in s:\n",
    "    s1 = set(line[:len(line)//2])\n",
    "    s2 = set(line[len(line)//2:])\n",
    "\n",
    "    inter = s1.intersection(s2)\n",
    "    for item in inter:\n",
    "        if item.isupper():\n",
    "            res += ord(item)-ord('A')+1+26\n",
    "        else:\n",
    "            res += ord(item)-ord('a')+1\n",
    "    \n",
    "#     for k,v in s1.items():\n",
    "#         if k.isupper():\n",
    "#             res += min(v, s2[k])*(ord(k)-ord('A')+1)\n",
    "#         else:\n",
    "#             res += min(v, s2[k])*(ord(k)-ord('a')+1)\n",
    "            \n",
    "print(res)"
   ]
  },
  {
   "cell_type": "code",
   "execution_count": 30,
   "id": "starting-shame",
   "metadata": {},
   "outputs": [
    {
     "name": "stdout",
     "output_type": "stream",
     "text": [
      "2790\n"
     ]
    }
   ],
   "source": [
    "from collections import Counter\n",
    "\n",
    "with open(\"3.txt\", \"r\") as f:\n",
    "    s = f.read().split(\"\\n\")\n",
    "s.pop()\n",
    "res = 0\n",
    "for i in range(0, len(s), 3):\n",
    "    s1,s2,s3 = set(s[i]), set(s[i+1]), set(s[i+2])\n",
    "    k = list(s1.intersection(s2).intersection(s3))[0]\n",
    "\n",
    "    if k.isupper():\n",
    "        res += (ord(k)-ord('A')+1)+26\n",
    "    else:\n",
    "        res += (ord(k)-ord('a')+1)\n",
    "            \n",
    "print(res)"
   ]
  }
 ],
 "metadata": {
  "kernelspec": {
   "display_name": "Python 3",
   "language": "python",
   "name": "python3"
  },
  "language_info": {
   "codemirror_mode": {
    "name": "ipython",
    "version": 3
   },
   "file_extension": ".py",
   "mimetype": "text/x-python",
   "name": "python",
   "nbconvert_exporter": "python",
   "pygments_lexer": "ipython3",
   "version": "3.7.9"
  }
 },
 "nbformat": 4,
 "nbformat_minor": 5
}
