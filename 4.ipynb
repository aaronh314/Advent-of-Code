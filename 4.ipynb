{
 "cells": [
  {
   "cell_type": "code",
   "execution_count": 9,
   "id": "honest-delhi",
   "metadata": {},
   "outputs": [
    {
     "name": "stdout",
     "output_type": "stream",
     "text": [
      "605\n"
     ]
    }
   ],
   "source": [
    "example='''2-4,6-8\n",
    "2-3,4-5\n",
    "5-7,7-9\n",
    "2-8,3-7\n",
    "6-6,4-6\n",
    "2-6,4-8\n",
    "'''\n",
    "\n",
    "with open('4.txt', 'r') as f:\n",
    "    s = f.read().split(\"\\n\")\n",
    "s.pop()\n",
    "res = 0\n",
    "for line in s:\n",
    "    pair1, pair2 = line.split(',')\n",
    "    a1, a2 = pair1.split('-')\n",
    "    b1, b2 = pair2.split('-')\n",
    "    \n",
    "    a1, a2, b1, b2 = int(a1), int(a2), int(b1), int(b2)\n",
    "#     print(a1, a2)\n",
    "#     print(b1, b2)\n",
    "#     print(b1 <= a1 and a2 <= b2)\n",
    "#     print(a1 <= b1 and b2 <= a2)\n",
    "    if b1 <= a1 and a2 <= b2:\n",
    "        res += 1\n",
    "    elif a1 <= b1 and b2 <= a2:\n",
    "        res += 1\n",
    "        \n",
    "print(res)"
   ]
  },
  {
   "cell_type": "code",
   "execution_count": 16,
   "id": "express-intensity",
   "metadata": {},
   "outputs": [
    {
     "name": "stdout",
     "output_type": "stream",
     "text": [
      "914\n"
     ]
    }
   ],
   "source": [
    "def getOverlap(a, b):\n",
    "    return max(0, min(a[1], b[1]) - max(a[0], b[0]))\n",
    "\n",
    "with open('4.txt', 'r') as f:\n",
    "    s = f.read().split(\"\\n\")\n",
    "s.pop()\n",
    "res = 0\n",
    "for line in s:\n",
    "    pair1, pair2 = line.split(',')\n",
    "    a1, a2 = pair1.split('-')\n",
    "    b1, b2 = pair2.split('-')\n",
    "    \n",
    "    a1, a2, b1, b2 = int(a1), int(a2), int(b1), int(b2)\n",
    "#     print(a1, a2)\n",
    "#     print(b1, b2)\n",
    "#     print(getOverlap([a1,a2],[b1,b2]))\n",
    "#     print()\n",
    "#     print(b1 <= a1 and a2 <= b2)\n",
    "#     print(a1 <= b1 and b2 <= a2)\n",
    "    if a1<=b2 and b1<=a2:\n",
    "        res += 1\n",
    "        \n",
    "print(res)"
   ]
  }
 ],
 "metadata": {
  "kernelspec": {
   "display_name": "Python 3",
   "language": "python",
   "name": "python3"
  },
  "language_info": {
   "codemirror_mode": {
    "name": "ipython",
    "version": 3
   },
   "file_extension": ".py",
   "mimetype": "text/x-python",
   "name": "python",
   "nbconvert_exporter": "python",
   "pygments_lexer": "ipython3",
   "version": "3.7.9"
  }
 },
 "nbformat": 4,
 "nbformat_minor": 5
}
