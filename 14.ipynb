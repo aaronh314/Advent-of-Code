{
 "cells": [
  {
   "cell_type": "code",
   "execution_count": null,
   "id": "numerical-railway",
   "metadata": {},
   "outputs": [],
   "source": []
  },
  {
   "cell_type": "code",
   "execution_count": 17,
   "id": "eligible-jacksonville",
   "metadata": {},
   "outputs": [
    {
     "data": {
      "text/plain": [
       "763"
      ]
     },
     "execution_count": 17,
     "metadata": {},
     "output_type": "execute_result"
    }
   ],
   "source": [
    "# Part 1\n",
    "\n",
    "with open(\"14.txt\", \"r\") as f:\n",
    "    s = f.read().split(\"\\n\")\n",
    "s.pop()\n",
    "\n",
    "blocked = set()\n",
    "lowest = 0\n",
    "\n",
    "for line in s:\n",
    "    rocks = line.split(' -> ')\n",
    "    rocks = [rock.split(',') for rock in rocks]\n",
    "    rocks = [(int(i), int(j)) for i,j in rocks]\n",
    "    \n",
    "    for i in range(1, len(rocks)):\n",
    "        start, finish = rocks[i-1], rocks[i]\n",
    "        \n",
    "        if start[0] == finish[0]:\n",
    "            for y in range(min(start[1], finish[1]), max(start[1], finish[1])+1):\n",
    "                blocked.add((finish[0], y))\n",
    "                lowest = max(lowest, y)\n",
    "        if start[1] == finish[1]:\n",
    "            for x in range(min(start[0], finish[0]), max(start[0], finish[0])+1):\n",
    "                blocked.add((x, finish[1]))\n",
    "            lowest = max(lowest, finish[1])\n",
    "            \n",
    "def fall(x, y):\n",
    "    if y == lowest:\n",
    "        return (-1,-1)\n",
    "    if (x,y+1) not in blocked:\n",
    "        return fall(x,y+1)\n",
    "    elif (x-1,y+1) not in blocked:\n",
    "        return fall(x-1,y+1)\n",
    "    elif (x+1,y+1) not in blocked:\n",
    "        return fall(x+1,y+1)\n",
    "    blocked.add((x,y))\n",
    "    return x,y\n",
    "\n",
    "sand = 0\n",
    "while True:\n",
    "    x,y = fall(500, 0)\n",
    "    if x == -1:\n",
    "        break\n",
    "    sand += 1\n",
    "    \n",
    "sand"
   ]
  },
  {
   "cell_type": "code",
   "execution_count": 28,
   "id": "yellow-petite",
   "metadata": {},
   "outputs": [
    {
     "name": "stdout",
     "output_type": "stream",
     "text": [
      "23921\n"
     ]
    }
   ],
   "source": [
    "# Part 2\n",
    "\n",
    "with open(\"14.txt\", \"r\") as f:\n",
    "    s = f.read().split(\"\\n\")\n",
    "s.pop()\n",
    "\n",
    "blocked = set()\n",
    "lowest = 0\n",
    "\n",
    "for line in s:\n",
    "    rocks = line.split(' -> ')\n",
    "    rocks = [rock.split(',') for rock in rocks]\n",
    "    rocks = [(int(i), int(j)) for i,j in rocks]\n",
    "    \n",
    "    for i in range(1, len(rocks)):\n",
    "        start, finish = rocks[i-1], rocks[i]\n",
    "        \n",
    "        if start[0] == finish[0]:\n",
    "            for y in range(min(start[1], finish[1]), max(start[1], finish[1])+1):\n",
    "                blocked.add((finish[0], y))\n",
    "                lowest = max(lowest, y)\n",
    "        if start[1] == finish[1]:\n",
    "            for x in range(min(start[0], finish[0]), max(start[0], finish[0])+1):\n",
    "                blocked.add((x, finish[1]))\n",
    "            lowest = max(lowest, finish[1])\n",
    "            \n",
    "def fall(x, y):\n",
    "#     print(x,y)\n",
    "    if y == lowest+2:\n",
    "        blocked.add((x,y))\n",
    "        return -1, -1\n",
    "    elif (x,y+1) not in blocked:\n",
    "        return fall(x,y+1)\n",
    "    elif (x-1,y+1) not in blocked:\n",
    "        return fall(x-1,y+1)\n",
    "    elif (x+1,y+1) not in blocked:\n",
    "        return fall(x+1,y+1)\n",
    "    blocked.add((x,y))\n",
    "    return x,y\n",
    "asd = set()\n",
    "sand = 0\n",
    "while True:\n",
    "    x,y = fall(500, 0)\n",
    "    if y==0:\n",
    "        break\n",
    "    sand += 1 if y!=-1 else 0\n",
    "    asd.add((x,y))\n",
    "    \n",
    "print(sand+1)\n",
    "\n",
    "# for i in range(12):\n",
    "#     for j in range(489, 509):\n",
    "#         if (j,i) in asd:\n",
    "#             print(\"O\", end=\"\")\n",
    "#         elif (j,i) in blocked:\n",
    "#             print(\"#\", end=\"\")\n",
    "#         else:\n",
    "#             print(\".\", end=\"\")\n",
    "#     print()"
   ]
  },
  {
   "cell_type": "code",
   "execution_count": null,
   "id": "ordinary-festival",
   "metadata": {},
   "outputs": [],
   "source": []
  }
 ],
 "metadata": {
  "kernelspec": {
   "display_name": "Python 3",
   "language": "python",
   "name": "python3"
  },
  "language_info": {
   "codemirror_mode": {
    "name": "ipython",
    "version": 3
   },
   "file_extension": ".py",
   "mimetype": "text/x-python",
   "name": "python",
   "nbconvert_exporter": "python",
   "pygments_lexer": "ipython3",
   "version": "3.7.9"
  }
 },
 "nbformat": 4,
 "nbformat_minor": 5
}
