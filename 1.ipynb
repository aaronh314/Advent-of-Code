{
 "cells": [
  {
   "cell_type": "code",
   "execution_count": 14,
   "id": "subtle-asset",
   "metadata": {},
   "outputs": [],
   "source": [
    "# Part 1\n",
    "\n",
    "with open(\"1.txt\", \"r\") as f:\n",
    "    s = f.read()\n",
    "s = s.split(\"\\n\\n\")\n",
    "res = 0\n",
    "s[-1] = s[-1][:-1]\n",
    "for elf in s:\n",
    "    cals = elf.split(\"\\n\")\n",
    "#     print(cals)\n",
    "    curr = 0\n",
    "    for cal in cals:\n",
    "        curr += int(cal)\n",
    "    res = max(curr, res)\n",
    "    \n",
    "res"
   ]
  },
  {
   "cell_type": "code",
   "execution_count": 19,
   "id": "interpreted-shakespeare",
   "metadata": {},
   "outputs": [
    {
     "name": "stdout",
     "output_type": "stream",
     "text": [
      "207148\n"
     ]
    }
   ],
   "source": [
    "# Part 2\n",
    "\n",
    "with open(\"1.txt\", \"r\") as f:\n",
    "    s = f.read()\n",
    "s = s.split(\"\\n\\n\")\n",
    "res = []\n",
    "s[-1] = s[-1][:-1]\n",
    "for elf in s:\n",
    "    cals = elf.split(\"\\n\")\n",
    "#     print(cals)\n",
    "    curr = 0\n",
    "    for cal in cals:\n",
    "        curr += int(cal)\n",
    "    res.append(curr)\n",
    "res.sort()\n",
    "print(sum(res[-3:]))"
   ]
  }
 ],
 "metadata": {
  "kernelspec": {
   "display_name": "Python 3",
   "language": "python",
   "name": "python3"
  },
  "language_info": {
   "codemirror_mode": {
    "name": "ipython",
    "version": 3
   },
   "file_extension": ".py",
   "mimetype": "text/x-python",
   "name": "python",
   "nbconvert_exporter": "python",
   "pygments_lexer": "ipython3",
   "version": "3.7.9"
  }
 },
 "nbformat": 4,
 "nbformat_minor": 5
}
