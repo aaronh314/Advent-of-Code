{
 "cells": [
  {
   "cell_type": "code",
   "execution_count": 7,
   "id": "eligible-jacksonville",
   "metadata": {},
   "outputs": [
    {
     "name": "stdout",
     "output_type": "stream",
     "text": [
      "14531\n"
     ]
    }
   ],
   "source": [
    "# Part 1\n",
    "\n",
    "with open(\"2.txt\", \"r\") as f:\n",
    "    s = f.read().split(\"\\n\")\n",
    "s.pop()\n",
    "\n",
    "res = 0\n",
    "\n",
    "for line in s:\n",
    "    A,B = line.split(\" \")\n",
    "    if B == \"X\":\n",
    "        res += 1\n",
    "        if A == \"A\":\n",
    "            res += 3\n",
    "        if A == \"B\":\n",
    "            res += 0\n",
    "        if A == \"C\":\n",
    "            res += 6\n",
    "    elif B == \"Y\":\n",
    "        res += 2\n",
    "        if A == \"A\":\n",
    "            res += 6\n",
    "        elif A == \"B\":\n",
    "            res += 3\n",
    "        elif A == \"C\":\n",
    "            res += 0\n",
    "    elif B == \"Z\":\n",
    "        res += 3\n",
    "        if A == \"A\":\n",
    "            res += 0\n",
    "        elif A == \"B\":\n",
    "            res += 6\n",
    "        elif A == \"C\":\n",
    "            res += 3\n",
    "            \n",
    "print(res)"
   ]
  },
  {
   "cell_type": "code",
   "execution_count": 9,
   "id": "yellow-petite",
   "metadata": {},
   "outputs": [
    {
     "name": "stdout",
     "output_type": "stream",
     "text": [
      "11258\n"
     ]
    }
   ],
   "source": [
    "# Part 2\n",
    "\n",
    "with open(\"2.txt\", \"r\") as f:\n",
    "    s = f.read().split(\"\\n\")\n",
    "s.pop()\n",
    "\n",
    "res = 0\n",
    "\n",
    "for line in s:\n",
    "    A,B = line.split(\" \")\n",
    "    if B == \"X\": #lose\n",
    "        if A == \"A\": #rock\n",
    "            res += 3\n",
    "        if A == \"B\": #paper\n",
    "            res += 1\n",
    "        if A == \"C\": #scissor\n",
    "            res += 2\n",
    "    elif B == \"Y\": #draw\n",
    "        res += 3\n",
    "        if A == \"A\":\n",
    "            res += 1\n",
    "        elif A == \"B\":\n",
    "            res += 2\n",
    "        elif A == \"C\":\n",
    "            res += 3\n",
    "    elif B == \"Z\": #win\n",
    "        res += 6\n",
    "        if A == \"A\":\n",
    "            res += 2\n",
    "        elif A == \"B\":\n",
    "            res += 3\n",
    "        elif A == \"C\":\n",
    "            res += 1\n",
    "print(res)"
   ]
  }
 ],
 "metadata": {
  "kernelspec": {
   "display_name": "Python 3",
   "language": "python",
   "name": "python3"
  },
  "language_info": {
   "codemirror_mode": {
    "name": "ipython",
    "version": 3
   },
   "file_extension": ".py",
   "mimetype": "text/x-python",
   "name": "python",
   "nbconvert_exporter": "python",
   "pygments_lexer": "ipython3",
   "version": "3.7.9"
  }
 },
 "nbformat": 4,
 "nbformat_minor": 5
}
