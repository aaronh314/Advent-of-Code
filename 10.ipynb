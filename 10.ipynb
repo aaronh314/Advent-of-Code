{
 "cells": [
  {
   "cell_type": "code",
   "execution_count": 8,
   "id": "subtle-asset",
   "metadata": {},
   "outputs": [
    {
     "name": "stdout",
     "output_type": "stream",
     "text": [
      "12740\n"
     ]
    }
   ],
   "source": [
    "# Part 1\n",
    "\n",
    "with open(\"10.txt\", \"r\") as f:\n",
    "    s = f.read()\n",
    "s = s.split(\"\\n\")\n",
    "s.pop()\n",
    "\n",
    "X = 1\n",
    "curr_cycle = 1\n",
    "vals = []\n",
    "for line in s:\n",
    "    elems = line.split(\" \")\n",
    "    if elems[0] == \"noop\":\n",
    "        vals.append(X)\n",
    "    else:\n",
    "        vals.append(X)\n",
    "        vals.append(X)\n",
    "        X += int(elems[1])\n",
    "        \n",
    "print(sum([(20+40*(i))*vals[20+40*(i)-1] for i in range(6)]))"
   ]
  },
  {
   "cell_type": "code",
   "execution_count": 16,
   "id": "interpreted-shakespeare",
   "metadata": {},
   "outputs": [
    {
     "name": "stdout",
     "output_type": "stream",
     "text": [
      "###..###..###...##..###...##...##..####.\n",
      "#..#.#..#.#..#.#..#.#..#.#..#.#..#.#....\n",
      "#..#.###..#..#.#..#.#..#.#..#.#....###..\n",
      "###..#..#.###..####.###..####.#.##.#....\n",
      "#.#..#..#.#....#..#.#.#..#..#.#..#.#....\n",
      "#..#.###..#....#..#.#..#.#..#..###.#....\n"
     ]
    }
   ],
   "source": [
    "# Part 1\n",
    "\n",
    "with open(\"10.txt\", \"r\") as f:\n",
    "    s = f.read()\n",
    "s = s.split(\"\\n\")\n",
    "s.pop()\n",
    "\n",
    "X = 1\n",
    "curr_cycle = 1\n",
    "vals = []\n",
    "for line in s:\n",
    "    elems = line.split(\" \")\n",
    "    if elems[0] == \"noop\":\n",
    "        vals.append(X)\n",
    "    else:\n",
    "        vals.append(X)\n",
    "        vals.append(X)\n",
    "        X += int(elems[1])\n",
    "        \n",
    "for i in range(len(vals)):\n",
    "    val = vals[i]\n",
    "    if i%40 in [val-1,val,val+1]:\n",
    "        print(\"#\",end=\"\")\n",
    "    else:\n",
    "        print(\".\",end=\"\")\n",
    "    if (i+1)%40==0:\n",
    "        print()"
   ]
  }
 ],
 "metadata": {
  "kernelspec": {
   "display_name": "Python 3",
   "language": "python",
   "name": "python3"
  },
  "language_info": {
   "codemirror_mode": {
    "name": "ipython",
    "version": 3
   },
   "file_extension": ".py",
   "mimetype": "text/x-python",
   "name": "python",
   "nbconvert_exporter": "python",
   "pygments_lexer": "ipython3",
   "version": "3.7.9"
  }
 },
 "nbformat": 4,
 "nbformat_minor": 5
}
