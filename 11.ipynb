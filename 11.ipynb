{
 "cells": [
  {
   "cell_type": "code",
   "execution_count": null,
   "id": "hollywood-wagon",
   "metadata": {},
   "outputs": [],
   "source": []
  },
  {
   "cell_type": "code",
   "execution_count": 88,
   "id": "caroline-durham",
   "metadata": {
    "scrolled": false
   },
   "outputs": [
    {
     "data": {
      "text/plain": [
       "120056"
      ]
     },
     "execution_count": 88,
     "metadata": {},
     "output_type": "execute_result"
    }
   ],
   "source": [
    "from collections import Counter\n",
    "\n",
    "with open(\"11.txt\", \"r\") as f:\n",
    "    s = f.read().split(\"\\n\\n\")\n",
    "# s.pop()\n",
    "monkeys = []\n",
    "\n",
    "for monkey in s:\n",
    "    elems = monkey.split(\"\\n\")\n",
    "    monkeys.append({\n",
    "        \"start\" : [int(worry) for worry in elems[1][18:].split(\", \") if worry.isnumeric()],\n",
    "        \"operation\" : eval(elems[2].split(\": \")[1].replace('new =', 'lambda x:').replace('old', 'x')),\n",
    "        \"test\" : eval(f'lambda x:x%{int(elems[3].split(\" \")[-1])}==0'),\n",
    "        True : int(elems[4].split(\" \")[-1]),\n",
    "        False : int(elems[5].split(\" \")[-1]),\n",
    "        \"counts\" : 0\n",
    "    })\n",
    "    \n",
    "for _ in range(20):\n",
    "    for i, monkey in enumerate(monkeys):\n",
    "        while monkey[\"start\"]:\n",
    "            start = monkey[\"start\"].pop()\n",
    "#             print(i)\n",
    "#             print(start)\n",
    "            start = monkey[\"operation\"](start)//3\n",
    "#             print(start)\n",
    "            test_res = monkey[\"test\"](start)\n",
    "#             print(monkey[test_res])\n",
    "#             print()\n",
    "            monkeys[monkey[test_res]][\"start\"].append(start)\n",
    "            monkey[\"counts\"] += 1\n",
    "counts = [monkey[\"counts\"] for monkey in monkeys]\n",
    "counts.sort(reverse=True)\n",
    "counts[0]*counts[1]\n",
    "            "
   ]
  },
  {
   "cell_type": "code",
   "execution_count": 114,
   "id": "regular-grave",
   "metadata": {},
   "outputs": [
    {
     "data": {
      "text/plain": [
       "21816744824"
      ]
     },
     "execution_count": 114,
     "metadata": {},
     "output_type": "execute_result"
    }
   ],
   "source": [
    "from collections import Counter\n",
    "\n",
    "with open(\"11.txt\", \"r\") as f:\n",
    "    s = f.read().split(\"\\n\\n\")\n",
    "# s.pop()\n",
    "monkeys = []\n",
    "primes = []\n",
    "product = 1\n",
    "for monkey in s:\n",
    "    elems = monkey.split(\"\\n\")\n",
    "    monkeys.append({\n",
    "        \"start\" : [int(worry) for worry in elems[1][18:].split(\", \") if worry.isnumeric()],\n",
    "        \"operation\" : eval(elems[2].split(\": \")[1].replace('new =', 'lambda x:').replace('old', 'x')),\n",
    "        \"test\" : eval(f'lambda x:x%{int(elems[3].split(\" \")[-1])}==0'),\n",
    "        True : int(elems[4].split(\" \")[-1]),\n",
    "        False : int(elems[5].split(\" \")[-1]),\n",
    "        \"counts\" : 0\n",
    "    })\n",
    "    \n",
    "    primes.append(int(elems[3].split(\" \")[-1]))\n",
    "    product *= int(elems[3].split(\" \")[-1])\n",
    "    \n",
    "for _ in range(10000):\n",
    "    for i, monkey in enumerate(monkeys):\n",
    "        while monkey[\"start\"]:\n",
    "            start = monkey[\"start\"].pop()\n",
    "#             print(i)\n",
    "#             print(start)\n",
    "            start = monkey[\"operation\"](start)\n",
    "#             print(start)\n",
    "            test_res = monkey[\"test\"](start)\n",
    "#             temp = 1\n",
    "#             for prime in primes:\n",
    "#                 if start%prime==0:\n",
    "#                     temp*=prime\n",
    "#             start=temp\n",
    "#             print(monkey[test_res])\n",
    "#             print()\n",
    "            monkeys[monkey[test_res]][\"start\"].append(start%product)\n",
    "            monkey[\"counts\"] += 1\n",
    "counts = [monkey[\"counts\"] for monkey in monkeys]\n",
    "counts.sort(reverse=True)\n",
    "counts[0]*counts[1]\n",
    "            "
   ]
  },
  {
   "cell_type": "code",
   "execution_count": 106,
   "id": "amended-footwear",
   "metadata": {},
   "outputs": [
    {
     "data": {
      "text/plain": [
       "[{'start': [1, 1, 1, 1, 1, 1],\n",
       "  'operation': <function __main__.<lambda>(x)>,\n",
       "  'test': <function __main__.<lambda>(x)>,\n",
       "  True: 2,\n",
       "  False: 3,\n",
       "  'counts': 49996},\n",
       " {'start': [1, 1, 1, 1],\n",
       "  'operation': <function __main__.<lambda>(x)>,\n",
       "  'test': <function __main__.<lambda>(x)>,\n",
       "  True: 2,\n",
       "  False: 0,\n",
       "  'counts': 50000},\n",
       " {'start': [],\n",
       "  'operation': <function __main__.<lambda>(x)>,\n",
       "  'test': <function __main__.<lambda>(x)>,\n",
       "  True: 1,\n",
       "  False: 3,\n",
       "  'counts': 3},\n",
       " {'start': [],\n",
       "  'operation': <function __main__.<lambda>(x)>,\n",
       "  'test': <function __main__.<lambda>(x)>,\n",
       "  True: 0,\n",
       "  False: 1,\n",
       "  'counts': 50000}]"
      ]
     },
     "execution_count": 106,
     "metadata": {},
     "output_type": "execute_result"
    }
   ],
   "source": [
    "monkeys"
   ]
  },
  {
   "cell_type": "code",
   "execution_count": 93,
   "id": "superb-converter",
   "metadata": {},
   "outputs": [
    {
     "data": {
      "text/plain": [
       "[23, 19, 13, 17]"
      ]
     },
     "execution_count": 93,
     "metadata": {},
     "output_type": "execute_result"
    }
   ],
   "source": [
    "primes"
   ]
  },
  {
   "cell_type": "code",
   "execution_count": 92,
   "id": "excited-battery",
   "metadata": {},
   "outputs": [
    {
     "data": {
      "text/plain": [
       "[{'start': [1, 1, 1, 1, 1, 1],\n",
       "  'operation': <function __main__.<lambda>(x)>,\n",
       "  'test': <function __main__.<lambda>(x)>,\n",
       "  True: 2,\n",
       "  False: 3,\n",
       "  'counts': 96},\n",
       " {'start': [1, 1, 1, 1],\n",
       "  'operation': <function __main__.<lambda>(x)>,\n",
       "  'test': <function __main__.<lambda>(x)>,\n",
       "  True: 2,\n",
       "  False: 0,\n",
       "  'counts': 100},\n",
       " {'start': [],\n",
       "  'operation': <function __main__.<lambda>(x)>,\n",
       "  'test': <function __main__.<lambda>(x)>,\n",
       "  True: 1,\n",
       "  False: 3,\n",
       "  'counts': 3},\n",
       " {'start': [],\n",
       "  'operation': <function __main__.<lambda>(x)>,\n",
       "  'test': <function __main__.<lambda>(x)>,\n",
       "  True: 0,\n",
       "  False: 1,\n",
       "  'counts': 100}]"
      ]
     },
     "execution_count": 92,
     "metadata": {},
     "output_type": "execute_result"
    }
   ],
   "source": [
    "monkeys"
   ]
  },
  {
   "cell_type": "code",
   "execution_count": 30,
   "id": "starting-shame",
   "metadata": {},
   "outputs": [
    {
     "name": "stdout",
     "output_type": "stream",
     "text": [
      "2790\n"
     ]
    }
   ],
   "source": [
    "from collections import Counter\n",
    "\n",
    "with open(\"3.txt\", \"r\") as f:\n",
    "    s = f.read().split(\"\\n\")\n",
    "s.pop()\n",
    "res = 0\n",
    "for i in range(0, len(s), 3):\n",
    "    s1,s2,s3 = set(s[i]), set(s[i+1]), set(s[i+2])\n",
    "    k = list(s1.intersection(s2).intersection(s3))[0]\n",
    "\n",
    "    if k.isupper():\n",
    "        res += (ord(k)-ord('A')+1)+26\n",
    "    else:\n",
    "        res += (ord(k)-ord('a')+1)\n",
    "            \n",
    "print(res)"
   ]
  }
 ],
 "metadata": {
  "kernelspec": {
   "display_name": "Python 3",
   "language": "python",
   "name": "python3"
  },
  "language_info": {
   "codemirror_mode": {
    "name": "ipython",
    "version": 3
   },
   "file_extension": ".py",
   "mimetype": "text/x-python",
   "name": "python",
   "nbconvert_exporter": "python",
   "pygments_lexer": "ipython3",
   "version": "3.7.9"
  }
 },
 "nbformat": 4,
 "nbformat_minor": 5
}
