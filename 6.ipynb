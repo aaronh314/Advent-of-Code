{
 "cells": [
  {
   "cell_type": "code",
   "execution_count": 5,
   "id": "subtle-asset",
   "metadata": {},
   "outputs": [
    {
     "name": "stdout",
     "output_type": "stream",
     "text": [
      "1707\n"
     ]
    }
   ],
   "source": [
    "# Part 1\n",
    "\n",
    "with open(\"6.txt\", \"r\") as f:\n",
    "    s = f.read()\n",
    "    \n",
    "for i in range(4, len(s)):\n",
    "    if len(set(s[i-4:i])) == 4:\n",
    "        print(i)\n",
    "        break"
   ]
  },
  {
   "cell_type": "code",
   "execution_count": 7,
   "id": "interpreted-shakespeare",
   "metadata": {},
   "outputs": [
    {
     "name": "stdout",
     "output_type": "stream",
     "text": [
      "3697\n"
     ]
    }
   ],
   "source": [
    "# Part 2\n",
    "\n",
    "with open(\"6.txt\", \"r\") as f:\n",
    "    s = f.read()\n",
    "    \n",
    "for i in range(14, len(s)):\n",
    "    if len(set(s[i-14:i])) == 14:\n",
    "        print(i)\n",
    "        break"
   ]
  }
 ],
 "metadata": {
  "kernelspec": {
   "display_name": "Python 3",
   "language": "python",
   "name": "python3"
  },
  "language_info": {
   "codemirror_mode": {
    "name": "ipython",
    "version": 3
   },
   "file_extension": ".py",
   "mimetype": "text/x-python",
   "name": "python",
   "nbconvert_exporter": "python",
   "pygments_lexer": "ipython3",
   "version": "3.7.9"
  }
 },
 "nbformat": 4,
 "nbformat_minor": 5
}
