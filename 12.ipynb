{
 "cells": [
  {
   "cell_type": "code",
   "execution_count": 5,
   "id": "eligible-jacksonville",
   "metadata": {},
   "outputs": [
    {
     "name": "stdout",
     "output_type": "stream",
     "text": [
      "339\n"
     ]
    }
   ],
   "source": [
    "# Part 1\n",
    "from collections import deque\n",
    "\n",
    "with open(\"12.txt\", \"r\") as f:\n",
    "    s = f.read().split(\"\\n\")\n",
    "s.pop()\n",
    "\n",
    "m,n = len(s), len(s[0])\n",
    "d = deque()\n",
    "for i in range(m):\n",
    "    s[i] = list(s[i])\n",
    "    for j in range(n):\n",
    "        if s[i][j] == \"S\":\n",
    "            d.append((i,j,0))\n",
    "            s[i][j]=\"a\"\n",
    "        if s[i][j] == \"E\":\n",
    "            endi, endj = i,j\n",
    "            s[i][j]='z'\n",
    "visited = set()\n",
    "num_visited = 0\n",
    "while d:\n",
    "    i,j,steps = d.popleft()\n",
    "    if i==endi and j==endj:\n",
    "        print(steps)\n",
    "        break\n",
    "    if (i,j) in visited:\n",
    "        continue\n",
    "    visited.add((i,j))\n",
    "    for di, dj in [[-1,0],[1,0],[0,-1],[0,1]]:\n",
    "        newi, newj = i+di, j+dj\n",
    "        if not(0<=newi<m and 0<=newj<n):\n",
    "            continue\n",
    "        if (newi,newj) in visited:\n",
    "            continue\n",
    "        if ord(s[newi][newj]) <= ord(s[i][j]) + 1:\n",
    "            d.append((newi,newj,steps+1))"
   ]
  },
  {
   "cell_type": "code",
   "execution_count": 12,
   "id": "yellow-petite",
   "metadata": {},
   "outputs": [
    {
     "data": {
      "text/plain": [
       "332"
      ]
     },
     "execution_count": 12,
     "metadata": {},
     "output_type": "execute_result"
    }
   ],
   "source": [
    "# Part 2\n",
    "\n",
    "from collections import deque\n",
    "\n",
    "with open(\"12.txt\", \"r\") as f:\n",
    "    s = f.read().split(\"\\n\")\n",
    "s.pop()\n",
    "\n",
    "m,n = len(s), len(s[0])\n",
    "starts = []\n",
    "for i in range(m):\n",
    "    s[i] = list(s[i])\n",
    "    for j in range(n):\n",
    "        if s[i][j] == \"S\":\n",
    "            s[i][j]=\"a\"\n",
    "        if s[i][j] == \"a\":\n",
    "            starts.append((i,j))\n",
    "        if s[i][j] == \"E\":\n",
    "            endi, endj = i,j\n",
    "            s[i][j]='z'\n",
    "\n",
    "def bfs(i,j):\n",
    "    d = deque([(i,j,0)])\n",
    "    visited = set()\n",
    "    num_visited = 0\n",
    "    while d:\n",
    "        i,j,steps = d.popleft()\n",
    "        if i==endi and j==endj:\n",
    "            return steps\n",
    "        if (i,j) in visited:\n",
    "            continue\n",
    "        visited.add((i,j))\n",
    "        for di, dj in [[-1,0],[1,0],[0,-1],[0,1]]:\n",
    "            newi, newj = i+di, j+dj\n",
    "            if not(0<=newi<m and 0<=newj<n):\n",
    "                continue\n",
    "            if (newi,newj) in visited:\n",
    "                continue\n",
    "            if ord(s[newi][newj]) <= ord(s[i][j]) + 1:\n",
    "                d.append((newi,newj,steps+1))\n",
    "                \n",
    "res = float(\"inf\")\n",
    "\n",
    "for i,j in starts:\n",
    "    bfs_res = bfs(i,j)\n",
    "    if bfs_res:\n",
    "        res = min(res, bfs_res)\n",
    "res"
   ]
  }
 ],
 "metadata": {
  "kernelspec": {
   "display_name": "Python 3",
   "language": "python",
   "name": "python3"
  },
  "language_info": {
   "codemirror_mode": {
    "name": "ipython",
    "version": 3
   },
   "file_extension": ".py",
   "mimetype": "text/x-python",
   "name": "python",
   "nbconvert_exporter": "python",
   "pygments_lexer": "ipython3",
   "version": "3.7.9"
  }
 },
 "nbformat": 4,
 "nbformat_minor": 5
}
