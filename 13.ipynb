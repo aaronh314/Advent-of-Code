{
 "cells": [
  {
   "cell_type": "code",
   "execution_count": 41,
   "id": "specialized-advertiser",
   "metadata": {},
   "outputs": [],
   "source": [
    "def unnest(left, right):\n",
    "    if type(left) == int and type(right) == int:\n",
    "        return -1 if left < right else 0 if left == right else 1\n",
    "    if type(left) == int:\n",
    "        left = [left]\n",
    "    if type(right) == int:\n",
    "        right = [right]\n",
    "    \n",
    "    for l, r in zip(left, right):\n",
    "        res = unnest(l, r)\n",
    "        if res != 0:\n",
    "            return res\n",
    "\n",
    "    a,b = len(left), len(right)\n",
    "    return -1 if a < b else 0 if a == b else 1\n",
    "        "
   ]
  },
  {
   "cell_type": "code",
   "execution_count": 42,
   "id": "subtle-asset",
   "metadata": {},
   "outputs": [
    {
     "data": {
      "text/plain": [
       "5938"
      ]
     },
     "execution_count": 42,
     "metadata": {},
     "output_type": "execute_result"
    }
   ],
   "source": [
    "# Part 1\n",
    "\n",
    "with open(\"13.txt\", \"r\") as f:\n",
    "    s = f.read()\n",
    "s = s.split(\"\\n\\n\")\n",
    "curr = 0\n",
    "for i in range(len(s)):\n",
    "    left, right = s[i].split('\\n')\n",
    "    left = eval(left)\n",
    "    right = eval(right)\n",
    "#     print(unnest(left) , unnest(right))\n",
    "    if unnest(left, right) == -1:\n",
    "#         print(i+1)\n",
    "        curr += i+1\n",
    "            \n",
    "curr"
   ]
  },
  {
   "cell_type": "code",
   "execution_count": 48,
   "id": "interpreted-shakespeare",
   "metadata": {},
   "outputs": [
    {
     "data": {
      "text/plain": [
       "29025"
      ]
     },
     "execution_count": 48,
     "metadata": {},
     "output_type": "execute_result"
    }
   ],
   "source": [
    "# Part 2\n",
    "from functools import cmp_to_key\n",
    "\n",
    "with open(\"13.txt\", \"r\") as f:\n",
    "    s = f.read()\n",
    "s = s.split(\"\\n\\n\")\n",
    "curr = 0\n",
    "packets = []\n",
    "for i in range(len(s)):\n",
    "    left, right = s[i].split('\\n')\n",
    "    left = eval(left)\n",
    "    right = eval(right)\n",
    "    packets.append(left)\n",
    "    packets.append(right)\n",
    "packets.append([[2]])\n",
    "packets.append([[6]])\n",
    "\n",
    "packets.sort(key=cmp_to_key(unnest))\n",
    "res = 1\n",
    "for i, packet in enumerate(packets):\n",
    "    if str(packet) in ['[[2]]', '[[6]]']:\n",
    "        res*=i+1\n",
    "res"
   ]
  }
 ],
 "metadata": {
  "kernelspec": {
   "display_name": "Python 3",
   "language": "python",
   "name": "python3"
  },
  "language_info": {
   "codemirror_mode": {
    "name": "ipython",
    "version": 3
   },
   "file_extension": ".py",
   "mimetype": "text/x-python",
   "name": "python",
   "nbconvert_exporter": "python",
   "pygments_lexer": "ipython3",
   "version": "3.7.9"
  }
 },
 "nbformat": 4,
 "nbformat_minor": 5
}
