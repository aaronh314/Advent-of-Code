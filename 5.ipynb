{
 "cells": [
  {
   "cell_type": "code",
   "execution_count": 18,
   "id": "honest-delhi",
   "metadata": {},
   "outputs": [
    {
     "name": "stdout",
     "output_type": "stream",
     "text": [
      "        [H]         [S]         [D]\n",
      "    [S] [C]         [C]     [Q] [L]\n",
      "    [C] [R] [Z]     [R]     [H] [Z]\n",
      "    [G] [N] [H] [S] [B]     [R] [F]\n",
      "[D] [T] [Q] [F] [Q] [Z]     [Z] [N]\n",
      "[Z] [W] [F] [N] [F] [W] [J] [V] [G]\n",
      "[T] [R] [B] [C] [L] [P] [F] [L] [H]\n",
      "[H] [Q] [P] [L] [G] [V] [Z] [D] [B]\n",
      "RFFFWBPNS\n"
     ]
    }
   ],
   "source": [
    "with open('5.txt', 'r') as f:\n",
    "    s = f.read().split(\"\\n\")\n",
    "s.pop()\n",
    "stacks = [[] for _ in range(9)]\n",
    "    \n",
    "start = 0\n",
    "    \n",
    "for line in s:\n",
    "    if '1' in line:\n",
    "        break\n",
    "    for i in range(1, len(line), 4):\n",
    "        if line[i] != ' ':\n",
    "            stacks[i//4].append(line[i])\n",
    "    print(line)\n",
    "            \n",
    "for i in range(9):\n",
    "    stacks[i] = stacks[i][::-1]\n",
    "    \n",
    "for line in s[10:]:\n",
    "    _, quantity, _, crate1, _, crate2 = line.split()\n",
    "    quantity, crate1, crate2 = int(quantity), int(crate1)-1, int(crate2)-1\n",
    "    for _ in range(quantity):\n",
    "        stacks[crate2].append(stacks[crate1].pop())\n",
    "        \n",
    "for stack in stacks:\n",
    "    print(stack[-1], end=\"\")\n",
    "print()"
   ]
  },
  {
   "cell_type": "code",
   "execution_count": 23,
   "id": "express-intensity",
   "metadata": {},
   "outputs": [
    {
     "name": "stdout",
     "output_type": "stream",
     "text": [
      "        [H]         [S]         [D]\n",
      "    [S] [C]         [C]     [Q] [L]\n",
      "    [C] [R] [Z]     [R]     [H] [Z]\n",
      "    [G] [N] [H] [S] [B]     [R] [F]\n",
      "[D] [T] [Q] [F] [Q] [Z]     [Z] [N]\n",
      "[Z] [W] [F] [N] [F] [W] [J] [V] [G]\n",
      "[T] [R] [B] [C] [L] [P] [F] [L] [H]\n",
      "[H] [Q] [P] [L] [G] [V] [Z] [D] [B]\n",
      "CQQBBJFCS\n"
     ]
    }
   ],
   "source": [
    "with open('5.txt', 'r') as f:\n",
    "    s = f.read().split(\"\\n\")\n",
    "s.pop()\n",
    "stacks = [[] for _ in range(9)]\n",
    "    \n",
    "start = 0\n",
    "    \n",
    "for line in s:\n",
    "    if '1' in line:\n",
    "        break\n",
    "    for i in range(1, len(line), 4):\n",
    "        if line[i] != ' ':\n",
    "            stacks[i//4].append(line[i])\n",
    "    print(line)\n",
    "            \n",
    "for i in range(9):\n",
    "    stacks[i] = stacks[i][::-1]\n",
    "    \n",
    "for line in s[10:]:\n",
    "    _, quantity, _, crate1, _, crate2 = line.split()\n",
    "    quantity, crate1, crate2 = int(quantity), int(crate1)-1, int(crate2)-1\n",
    "    stacks[crate2] += stacks[crate1][-quantity:]\n",
    "    stacks[crate1] = stacks[crate1][:-quantity]\n",
    "        \n",
    "for stack in stacks:\n",
    "    print(stack[-1], end=\"\")\n",
    "print()"
   ]
  }
 ],
 "metadata": {
  "kernelspec": {
   "display_name": "Python 3 (ipykernel)",
   "language": "python",
   "name": "python3"
  },
  "language_info": {
   "codemirror_mode": {
    "name": "ipython",
    "version": 3
   },
   "file_extension": ".py",
   "mimetype": "text/x-python",
   "name": "python",
   "nbconvert_exporter": "python",
   "pygments_lexer": "ipython3",
   "version": "3.9.15"
  }
 },
 "nbformat": 4,
 "nbformat_minor": 5
}
